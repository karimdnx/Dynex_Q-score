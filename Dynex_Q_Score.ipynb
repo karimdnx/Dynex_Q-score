{
 "cells": [
  {
   "cell_type": "markdown",
   "id": "dab9797a-d695-430d-9345-801697b584db",
   "metadata": {},
   "source": [
    "# Dynex' Q-Score"
   ]
  },
  {
   "cell_type": "markdown",
   "id": "1251659e-5210-4332-bb62-437268079178",
   "metadata": {},
   "source": [
    "Q-score measures the efficiency of running a representative quantum application, a system's effectiveness at handling real-life problems, instead of its theoretical or physical performance. [1]. The Q-Score calculation for the Dynex Neuromorphic Computing platform is based by Atos' official package for measuring the Q-Score [2]"
   ]
  },
  {
   "cell_type": "markdown",
   "id": "1ea4a16a-07e9-40dc-8a3b-c18a6f3bebd6",
   "metadata": {},
   "source": [
    "In \"Evaluating the Q-score of Quantum Annealers\", Ward van der Schoot et al calculated the Q-Score for a series of D-Wave quantum devices, classical algorithms and hybrid quantum-classical systems. The public Q-Score package [2] has been used to generate the Q-Score for the Dynex Neuromorphic Computing Platform."
   ]
  },
  {
   "cell_type": "code",
   "execution_count": 2,
   "id": "ce9c9138-5168-49a6-953b-69dd0c2cd297",
   "metadata": {},
   "outputs": [],
   "source": [
    "import dynex\n",
    "import dimod\n",
    "from pyqubo import Array"
   ]
  },
  {
   "cell_type": "markdown",
   "id": "e3d50bf1-174a-49a2-8e4a-4b38d755e3b9",
   "metadata": {},
   "source": [
    "### Dynex SDK Version used"
   ]
  },
  {
   "cell_type": "code",
   "execution_count": 3,
   "id": "cf95e0fb-fd5e-42ef-a802-eaf70fb5eee7",
   "metadata": {},
   "outputs": [
    {
     "data": {
      "text/plain": [
       "'0.1.9'"
      ]
     },
     "execution_count": 3,
     "metadata": {},
     "output_type": "execute_result"
    }
   ],
   "source": [
    "dynex.__version__"
   ]
  },
  {
   "cell_type": "code",
   "execution_count": 4,
   "id": "86123acd-6a98-45a6-b1c3-d745633332a1",
   "metadata": {},
   "outputs": [],
   "source": [
    "import networkx as nx\n",
    "from collections import defaultdict\n",
    "import numpy as np\n",
    "from datetime import datetime\n",
    "import pickle\n",
    "from dimod import BinaryQuadraticModel, BINARY\n",
    "from tqdm.notebook import tqdm"
   ]
  },
  {
   "cell_type": "markdown",
   "id": "457f81a0-ead4-43da-a291-7248ee193496",
   "metadata": {},
   "source": [
    "## Atos Q-Score Package"
   ]
  },
  {
   "cell_type": "code",
   "execution_count": 5,
   "id": "f82d4eb3-3d21-4e4a-8fbe-6143292195f9",
   "metadata": {},
   "outputs": [],
   "source": [
    "def draw_sampleset(G, sampleset):\n",
    "    \"\"\"\n",
    "    Function to draw graph 'G' by applying 'sampleset'\n",
    "    \"\"\"\n",
    "    lut = sampleset.first.sample\n",
    "\n",
    "    # Interpret best result in terms of nodes and edges\n",
    "    S0 = [node for node in G.nodes if not lut[node]]\n",
    "    S1 = [node for node in G.nodes if lut[node]]\n",
    "    cut_edges = [(u, v) for u, v in G.edges if lut[u]!=lut[v]]\n",
    "    uncut_edges = [(u, v) for u, v in G.edges if lut[u]==lut[v]]\n",
    "\n",
    "    # Display best result\n",
    "    pos = nx.spring_layout(G)\n",
    "    nx.draw_networkx_nodes(G, pos, nodelist=S0, node_color='r')\n",
    "    nx.draw_networkx_nodes(G, pos, nodelist=S1, node_color='c')\n",
    "    nx.draw_networkx_edges(G, pos, edgelist=cut_edges, style='dashdot', alpha=0.5, width=3)\n",
    "    nx.draw_networkx_edges(G, pos, edgelist=uncut_edges, style='solid', width=3)\n",
    "    nx.draw_networkx_labels(G, pos)"
   ]
  },
  {
   "cell_type": "code",
   "execution_count": 16,
   "id": "3d5a0ea1-a0dc-4151-905a-b3ace2586b1c",
   "metadata": {},
   "outputs": [],
   "source": [
    "def run_job(size, depth = 1, seed=None, plot=False, strength = 10, generate_random = False, debug = False):\n",
    "    \"\"\"\n",
    "    (Re)Implementation of Ato's generate_maxcut_job() function as specified in job_generation.py. It\n",
    "    generates a randum Erdos-Enyi graph of a given size, converts the graph to a QUBO formulation and\n",
    "    returns the two sets as well as the number of cuts (= energy ground state) to be consistent with the paper\n",
    "    \n",
    "    Parameters:\n",
    "    -----------\n",
    "    - size (int): size of the maximum cut problem graph\n",
    "    - depth (int): depth of the problem\n",
    "    - seed (int): random seed\n",
    "    - plot (boolean): plot graphs \n",
    "    - strength (int): weight of qubo formulations' edges\n",
    "    - generate_random (boolean): implementation of a random assignment, can replace 0.178 * pow(size, 3 / 2) from paper \n",
    "    \n",
    "    Returns:\n",
    "    --------\n",
    "    - Set 0 (list)\n",
    "    - Set 1 (list)\n",
    "    - maximum_cut result (int)\n",
    "    - random_cut result (int)\n",
    "    \"\"\"\n",
    "    # Create a Erdos-Renyi graph of a given size:\n",
    "    G = nx.generators.erdos_renyi_graph(size, 0.5, seed=seed);\n",
    "    if debug:\n",
    "        print('Graph generated. Now constructing Binary Quadratic Model...')\n",
    "    if plot:\n",
    "        nx.draw(G);\n",
    "    \n",
    "    # Convert graph to Qubo \n",
    "    #Q = defaultdict(int)\n",
    "    # Update Q matrix for every edge in the graph\n",
    "    #for i, j in G.edges:\n",
    "    #    Q[(i,i)]+= -1 * strength;\n",
    "    #    Q[(j,j)]+= -1 * strength;\n",
    "    #    Q[(i,j)]+=  2 * strength;\n",
    "    #bqm = dimod.BinaryQuadraticModel.from_qubo(Q, 0.0);\n",
    "    \n",
    "    # we directly build a binary quadratic model (faster):\n",
    "    _bqm = BinaryQuadraticModel.empty(vartype=BINARY);\n",
    "    for i, j in tqdm(G.edges):\n",
    "        _bqm.add_linear(i, -1 * strength);\n",
    "        _bqm.add_linear(j, -1 * strength);\n",
    "        _bqm.add_quadratic(i,j, 2 * strength);\n",
    "        \n",
    "    if debug:\n",
    "        print('BQM generated. Starting sampling...');\n",
    "    \n",
    "    # Sample on Dynex Platform:\n",
    "    model = dynex.BQM(_bqm, logging=False);\n",
    "    sampler = dynex.DynexSampler(model, mainnet=False, description='Dynex SDK test', logging=False);\n",
    "    sampleset = sampler.sample(num_reads=500000, annealing_time = 300, debugging=False);\n",
    "    cut = (sampleset.first.energy * -1 ) / strength;\n",
    "    print('Ground state cut = ',cut);\n",
    "    \n",
    "    # Random cut?\n",
    "    r_cut = -1;\n",
    "    if generate_random:\n",
    "        random_assignment = list(np.random.randint(0, 2, size))\n",
    "        r_assignment = dimod.SampleSet.from_samples_bqm(random_assignment, _bqm)\n",
    "        r_cut = (r_assignment.first.energy * -1 ) / strength;\n",
    "    \n",
    "    if plot:\n",
    "        draw_sampleset(G, sampleset)\n",
    "    \n",
    "    return cut, r_cut\n",
    "    "
   ]
  },
  {
   "cell_type": "code",
   "execution_count": 17,
   "id": "76662e8c-221a-42cd-be41-0eebb5858884",
   "metadata": {},
   "outputs": [],
   "source": [
    "_NB_INSTANCES_PER_SIZE = 5 #100\n",
    "_INITIAL_SIZE = 5\n",
    "_DEFAULT_SIZE_LIMIT = 20\n",
    "_DEFAULT_DEPTH = 1\n",
    "_DEFAULT_OUT_FILE = \"out.csv\"\n",
    "_DEFAULT_RAW_FILE = \"out.raw\"\n",
    "beta = 0.2\n",
    "seed = 1234"
   ]
  },
  {
   "cell_type": "code",
   "execution_count": 9,
   "id": "b0345f1c-e289-4ec9-8965-88f06ef8f27e",
   "metadata": {},
   "outputs": [],
   "source": [
    "_INTRO = \"\"\"=== Running Q-score benchmark | {date} ===\n",
    "Instances size:    {init_size} -- {final_size}\n",
    "Beta:              {beta}\n",
    "Ansatz depth:      {depth}\n",
    "Output file:       {output}\n",
    "Raw output file:   {rawdata}\n",
    "Random seed:       {seed}\n",
    "=================================\"\"\"\n",
    "\n",
    "_HEADER = \"\"\"# Q-Score run | {date}\n",
    "# Instances size:    {init_size} -- {final_size}\n",
    "# Ansatz depth:      {depth}\n",
    "# Beta:              {beta}\n",
    "# Output file:       {output}\n",
    "# Raw output file:   {rawdata}\n",
    "# Random seed:       {seed}\n",
    "# size, avg. score, avg. random score\n",
    "\"\"\""
   ]
  },
  {
   "cell_type": "code",
   "execution_count": 18,
   "id": "bee53368-dfc3-4f13-b221-0921f2501c8b",
   "metadata": {},
   "outputs": [],
   "source": [
    "def _exhaustive(start_size, end_size):\n",
    "    \"\"\"\n",
    "    Iterates over all the values of the domain until it finds a negative value.\n",
    "    \"\"\"\n",
    "    values = dict()\n",
    "    for index in range(start_size, end_size + 1, 10):\n",
    "        value = yield index\n",
    "        values[index] = value\n",
    "        if value < 0:\n",
    "            if index == start_size:\n",
    "                return False, value, (False, start_size)\n",
    "            return True, values, index - 1\n",
    "    return False, values, (True, max(values), values[max(values)])\n",
    "\n",
    "\n",
    "def _dichotomic(start_size, end_size):\n",
    "    \"\"\"\"\"\"\n",
    "    lower = start_size\n",
    "    upper = end_size\n",
    "    value = yield lower\n",
    "    values = dict()\n",
    "    values[lower] = value\n",
    "    value = yield upper\n",
    "    values[upper] = value\n",
    "\n",
    "    if values[upper] > 0:\n",
    "        return False, values, (True, max(values), values[max(values)])\n",
    "    if values[lower] < 0:\n",
    "        return False, value, (False, start_size)\n",
    "    while True:\n",
    "        if abs(upper - lower) <= 1:\n",
    "            return True, values, lower\n",
    "        next_index = (upper + lower) // 2\n",
    "        values[next_index] = yield next_index\n",
    "        if values[next_index] < 0:\n",
    "            upper = next_index\n",
    "        else:\n",
    "            lower = next_index\n",
    "\n",
    "\n",
    "GENERATORS = {\"exhaustive\": _exhaustive, \"dichotomic\": _dichotomic}"
   ]
  },
  {
   "cell_type": "code",
   "execution_count": 19,
   "id": "9fefd3cb-bf6d-4505-b849-e07bef618835",
   "metadata": {},
   "outputs": [],
   "source": [
    "class Driver:\n",
    "    \"\"\"\n",
    "    Drives the interaction with an iterator.\n",
    "\n",
    "    Arguments:\n",
    "        fun(callable): the evaluation function.\n",
    "          It should take an index and return a score.\n",
    "        iteration(str): either \"exhaustive\" or \"dichotomic\"\n",
    "        start_size(int): the start size (i.e the lowest index)\n",
    "        end_size(int): the end size (i.e the highest index)\n",
    "    \"\"\"\n",
    "\n",
    "    def __init__(self, fun, iteration, start_size, end_size):\n",
    "        if iteration not in GENERATORS:\n",
    "            raise ValueError(f\"Unknown iteration method {iteration}\")\n",
    "        self.generator = GENERATORS[iteration](start_size, end_size)\n",
    "        self.fun = fun\n",
    "\n",
    "    def run(self):\n",
    "        \"\"\"\n",
    "        Runs the iteration and returns a tuple containing:\n",
    "        - the success status (True, if an index exists such that f(index) > 0 and f(index + 1) <= 0, False otherwise)\n",
    "        - a map<index, value> containing all the evaluated point\n",
    "        - if found, the index such that f(index) > 0 and f(index + 1) <= 0\n",
    "        \"\"\"\n",
    "        index = next(self.generator)\n",
    "        while True:\n",
    "            try:\n",
    "                index = self.generator.send(self.fun(index))\n",
    "            except StopIteration as exp:\n",
    "                return exp.value"
   ]
  },
  {
   "cell_type": "code",
   "execution_count": 20,
   "id": "6e1e9359-daae-4f40-9ee0-3bd146536fea",
   "metadata": {},
   "outputs": [],
   "source": [
    "class QScore:\n",
    "    # pylint: disable=too-many-instance-attributes\n",
    "    \"\"\"\n",
    "\n",
    "    Arguments:\n",
    "        qpu(:class:`~qat.core.qpu.QPUHandler`): the QPU to benchmark (including its compilation stack).\n",
    "          The QPU should support variational optimization.\n",
    "        initial_size(int, optional): the initial instance size to try. Default to 5.\n",
    "        size_limit(int, optional): a limit on the size of MAX-CUT instances to try to solve.\n",
    "          Instance sizes will vary from 5 to this limit. Default to 20.\n",
    "        beta(float, optional): the threshold ratio for the test. The official test uses\n",
    "          20% (0.2) as threshold. Default to 0.2\n",
    "        iterator(str, optional): the iteration method to use (\"exhaustive\" or \"dichotomic\").\n",
    "          Default to \"dichotomic\".\n",
    "        depth(int, optional): the QAOA depth to use. Default to 1.\n",
    "        output(str, optional): a file name to store the benchmark output (in CSV format).\n",
    "          Default to out.csv.\n",
    "        rawdata(str, optional): a file name in which to store the raw output of all the runs\n",
    "          performed during the benchmark. Default to out.raw.\n",
    "        seed(int, optional): a seed for the instances generation\n",
    "    \"\"\"\n",
    "\n",
    "    def __init__(\n",
    "        self,\n",
    "        qpu,\n",
    "        size_limit=_DEFAULT_SIZE_LIMIT,\n",
    "        initial_size=_INITIAL_SIZE,\n",
    "        beta=0.2,\n",
    "        iterator= \"exhaustive\", # \"dichotomic\",\n",
    "        depth=_DEFAULT_DEPTH,\n",
    "        output=_DEFAULT_OUT_FILE,\n",
    "        rawdata=_DEFAULT_RAW_FILE,\n",
    "        seed=None,\n",
    "    ):\n",
    "        self._executor = qpu\n",
    "        self._size_limit = size_limit\n",
    "        self._iterator = iterator\n",
    "        self._initial_size = initial_size\n",
    "        self._depth = depth\n",
    "        self._output = output\n",
    "        self._rawdata = rawdata\n",
    "        self._seed = seed if seed is not None else np.random.randint(100000)\n",
    "        self._beta = beta\n",
    "\n",
    "    def run(self):\n",
    "        \"\"\"\n",
    "        Runs the benchmark.\n",
    "        \"\"\"\n",
    "        date_string = datetime.now().strftime(\"%d/%m/%Y %H:%M:%S\")\n",
    "        print(\n",
    "            _INTRO.format(\n",
    "                date=date_string,\n",
    "                init_size=self._initial_size,\n",
    "                final_size=self._size_limit,\n",
    "                beta=self._beta,\n",
    "                depth=self._depth,\n",
    "                output=self._output,\n",
    "                rawdata=self._rawdata,\n",
    "                seed=self._seed,\n",
    "            )\n",
    "        )\n",
    "        all_data = {}\n",
    "        seed = self._seed\n",
    "        to_output = _HEADER.format(\n",
    "            date=date_string,\n",
    "            init_size=self._initial_size,\n",
    "            beta=self._beta,\n",
    "            final_size=self._size_limit,\n",
    "            depth=self._depth,\n",
    "            output=self._output,\n",
    "            rawdata=self._rawdata,\n",
    "            seed=self._seed,\n",
    "        )\n",
    "\n",
    "        def _evaluate_point(size, seed=seed, to_output=to_output, self=self):\n",
    "            \"\"\"\n",
    "            Function that evaluates a single point.\n",
    "            \"\"\"\n",
    "            print(f\"Running for n={size:2d}.\", end=\" \", flush=True)\n",
    "            scores = []\n",
    "            data = []\n",
    "            for _ in range(_NB_INSTANCES_PER_SIZE):\n",
    "                \n",
    "                #job = generate_maxcut_job(size, self._depth, seed=seed)\n",
    "                #result = self._executor.submit(job)\n",
    "                #result = -cut; # cut is already positive\n",
    "                #scores.append(-result.value)\n",
    "                #data.append({\"seed\": seed, \"score\": -result.value})\n",
    "                #seed += 1\n",
    "                \n",
    "                # the above was replaced with Dynex Sampling function run_job:\n",
    "                cut, r_cut = run_job(size, depth = self._depth, seed=None, plot=False, strength = 1000);\n",
    "                scores.append(cut);\n",
    "                data.append({\"seed\": seed, \"score\": cut})\n",
    "                seed += 1\n",
    "                #print('    cut: ', cut)\n",
    "                \n",
    "            average_score = np.mean(scores) - size * (size - 1) / 8\n",
    "            avg_best_score = 0.178 * pow(size, 3 / 2)\n",
    "            print(f\"Score: {average_score:.2f}.\", end=\" \")\n",
    "            print(f\"Random best score: {avg_best_score:.2f}.\", end=\"\\t\")\n",
    "            to_output = f\"{size},{average_score},{avg_best_score}\\n\"\n",
    "            all_data[size] = data\n",
    "            pickle.dump(all_data, open(self._rawdata, \"wb\"))\n",
    "            with open(self._output, \"a\") as fout:\n",
    "                fout.write(to_output)\n",
    "            achieved_ratio = average_score / avg_best_score\n",
    "            if achieved_ratio > self._beta:\n",
    "                print(\"Success.\", \"beta = \",achieved_ratio)\n",
    "            else:\n",
    "                print(\"Fail.\", \"beta = \", achieved_ratio)\n",
    "            return achieved_ratio - self._beta\n",
    "\n",
    "        success, _, info = Driver(_evaluate_point, self._iterator, self._initial_size, self._size_limit).run()\n",
    "        \n",
    "        print('   ', info)\n",
    "\n",
    "        if success:\n",
    "            print(f\"Success. QScore({self._beta}) = {info}\")\n",
    "        else:\n",
    "            if info[0]:\n",
    "                print(f\"Failure. QScore({self._beta}) > {info[1]}\")\n",
    "                print(\"Maybe try to increase the max instance size !\")\n",
    "            else:\n",
    "                print(f\"Failure. QScore({self._beta}) < {info[1]}\")\n"
   ]
  },
  {
   "cell_type": "markdown",
   "id": "4cae0f1b-eb06-4beb-80ae-88322e779ea2",
   "metadata": {},
   "source": [
    "# Running Q-Score "
   ]
  },
  {
   "cell_type": "markdown",
   "id": "bbf9c84c-a830-42c9-ae88-4cddc1bf5450",
   "metadata": {},
   "source": [
    "According to the paper, the Q-Score is defined as the size 'N' at which the beta drops below 0.2. To evaluate this, sizes from 5 to x need to iteratively being tried. Results of all runs are stored in \"out.csv\" which can also be used to plot a chart similar to the ones presented in [1]. The run will return Success for a given value of 'N' until the reached beta falls below the threshold."
   ]
  },
  {
   "cell_type": "code",
   "execution_count": 21,
   "id": "05b1c2f8-e416-4d57-a92d-02bd95e3e942",
   "metadata": {},
   "outputs": [
    {
     "name": "stdout",
     "output_type": "stream",
     "text": [
      "=== Running Q-score benchmark | 12/10/2023 07:14:23 ===\n",
      "Instances size:    5 -- 180\n",
      "Beta:              0.2\n",
      "Ansatz depth:      1\n",
      "Output file:       out.csv\n",
      "Raw output file:   out.raw\n",
      "Random seed:       1234\n",
      "=================================\n",
      "Running for n= 5. "
     ]
    },
    {
     "data": {
      "application/vnd.jupyter.widget-view+json": {
       "model_id": "b13038fd1aaf40d98462f6a8a0148a35",
       "version_major": 2,
       "version_minor": 0
      },
      "text/plain": [
       "  0%|          | 0/4 [00:00<?, ?it/s]"
      ]
     },
     "metadata": {},
     "output_type": "display_data"
    },
    {
     "name": "stdout",
     "output_type": "stream",
     "text": [
      "Ground state cut =  4.0\n"
     ]
    },
    {
     "data": {
      "application/vnd.jupyter.widget-view+json": {
       "model_id": "ebfaeb6dcb7b4609bafe121c7a3ac793",
       "version_major": 2,
       "version_minor": 0
      },
      "text/plain": [
       "  0%|          | 0/7 [00:00<?, ?it/s]"
      ]
     },
     "metadata": {},
     "output_type": "display_data"
    },
    {
     "name": "stdout",
     "output_type": "stream",
     "text": [
      "Ground state cut =  4.0\n"
     ]
    },
    {
     "data": {
      "application/vnd.jupyter.widget-view+json": {
       "model_id": "9d21c3a113cf4cd6b54586e054904e35",
       "version_major": 2,
       "version_minor": 0
      },
      "text/plain": [
       "  0%|          | 0/4 [00:00<?, ?it/s]"
      ]
     },
     "metadata": {},
     "output_type": "display_data"
    },
    {
     "name": "stdout",
     "output_type": "stream",
     "text": [
      "Ground state cut =  3.0\n"
     ]
    },
    {
     "data": {
      "application/vnd.jupyter.widget-view+json": {
       "model_id": "0d5fdb2f03e348c9bd1d822ea1b2bc12",
       "version_major": 2,
       "version_minor": 0
      },
      "text/plain": [
       "  0%|          | 0/4 [00:00<?, ?it/s]"
      ]
     },
     "metadata": {},
     "output_type": "display_data"
    },
    {
     "name": "stdout",
     "output_type": "stream",
     "text": [
      "Ground state cut =  4.0\n"
     ]
    },
    {
     "data": {
      "application/vnd.jupyter.widget-view+json": {
       "model_id": "dbeb836ff0e04ad2878bef512a634d79",
       "version_major": 2,
       "version_minor": 0
      },
      "text/plain": [
       "  0%|          | 0/6 [00:00<?, ?it/s]"
      ]
     },
     "metadata": {},
     "output_type": "display_data"
    },
    {
     "name": "stdout",
     "output_type": "stream",
     "text": [
      "Ground state cut =  5.0\n",
      "Score: 1.50. Random best score: 1.99.\tSuccess. beta =  0.7537307789325134\n",
      "Running for n=15. "
     ]
    },
    {
     "data": {
      "application/vnd.jupyter.widget-view+json": {
       "model_id": "1ba34476c23448fc9ac473290cf99f26",
       "version_major": 2,
       "version_minor": 0
      },
      "text/plain": [
       "  0%|          | 0/48 [00:00<?, ?it/s]"
      ]
     },
     "metadata": {},
     "output_type": "display_data"
    },
    {
     "name": "stdout",
     "output_type": "stream",
     "text": [
      "Ground state cut =  36.0\n"
     ]
    },
    {
     "data": {
      "application/vnd.jupyter.widget-view+json": {
       "model_id": "87b1f073a1e8495c93f3b60403a28507",
       "version_major": 2,
       "version_minor": 0
      },
      "text/plain": [
       "  0%|          | 0/46 [00:00<?, ?it/s]"
      ]
     },
     "metadata": {},
     "output_type": "display_data"
    },
    {
     "name": "stdout",
     "output_type": "stream",
     "text": [
      "Ground state cut =  33.0\n"
     ]
    },
    {
     "data": {
      "application/vnd.jupyter.widget-view+json": {
       "model_id": "7b07368a092948cbb379f047b31fbad0",
       "version_major": 2,
       "version_minor": 0
      },
      "text/plain": [
       "  0%|          | 0/46 [00:00<?, ?it/s]"
      ]
     },
     "metadata": {},
     "output_type": "display_data"
    },
    {
     "name": "stdout",
     "output_type": "stream",
     "text": [
      "Ground state cut =  34.0\n"
     ]
    },
    {
     "data": {
      "application/vnd.jupyter.widget-view+json": {
       "model_id": "0616f53f087c428a8ecf1e6ab5372a5f",
       "version_major": 2,
       "version_minor": 0
      },
      "text/plain": [
       "  0%|          | 0/52 [00:00<?, ?it/s]"
      ]
     },
     "metadata": {},
     "output_type": "display_data"
    },
    {
     "name": "stdout",
     "output_type": "stream",
     "text": [
      "Ground state cut =  39.0\n"
     ]
    },
    {
     "data": {
      "application/vnd.jupyter.widget-view+json": {
       "model_id": "655fc075a20d43238f848bd23061ad39",
       "version_major": 2,
       "version_minor": 0
      },
      "text/plain": [
       "  0%|          | 0/49 [00:00<?, ?it/s]"
      ]
     },
     "metadata": {},
     "output_type": "display_data"
    },
    {
     "name": "stdout",
     "output_type": "stream",
     "text": [
      "Ground state cut =  35.0\n",
      "Score: 9.15. Random best score: 10.34.\tSuccess. beta =  0.8848388918301587\n",
      "Running for n=25. "
     ]
    },
    {
     "data": {
      "application/vnd.jupyter.widget-view+json": {
       "model_id": "bb422889ed554261b4c8b17b80377f70",
       "version_major": 2,
       "version_minor": 0
      },
      "text/plain": [
       "  0%|          | 0/157 [00:00<?, ?it/s]"
      ]
     },
     "metadata": {},
     "output_type": "display_data"
    },
    {
     "name": "stdout",
     "output_type": "stream",
     "text": [
      "Ground state cut =  103.0\n"
     ]
    },
    {
     "data": {
      "application/vnd.jupyter.widget-view+json": {
       "model_id": "da52543b340948518248b42c1065a76c",
       "version_major": 2,
       "version_minor": 0
      },
      "text/plain": [
       "  0%|          | 0/155 [00:00<?, ?it/s]"
      ]
     },
     "metadata": {},
     "output_type": "display_data"
    },
    {
     "name": "stdout",
     "output_type": "stream",
     "text": [
      "Ground state cut =  101.0\n"
     ]
    },
    {
     "data": {
      "application/vnd.jupyter.widget-view+json": {
       "model_id": "5f1810f8928943bc890bb868b04ebbc9",
       "version_major": 2,
       "version_minor": 0
      },
      "text/plain": [
       "  0%|          | 0/148 [00:00<?, ?it/s]"
      ]
     },
     "metadata": {},
     "output_type": "display_data"
    },
    {
     "name": "stdout",
     "output_type": "stream",
     "text": [
      "Ground state cut =  97.0\n"
     ]
    },
    {
     "data": {
      "application/vnd.jupyter.widget-view+json": {
       "model_id": "917149069a554cedbc39b67cb24366a1",
       "version_major": 2,
       "version_minor": 0
      },
      "text/plain": [
       "  0%|          | 0/147 [00:00<?, ?it/s]"
      ]
     },
     "metadata": {},
     "output_type": "display_data"
    },
    {
     "name": "stdout",
     "output_type": "stream",
     "text": [
      "Ground state cut =  100.0\n"
     ]
    },
    {
     "data": {
      "application/vnd.jupyter.widget-view+json": {
       "model_id": "9ac39805894d4f729d3cb2baaa9c37f2",
       "version_major": 2,
       "version_minor": 0
      },
      "text/plain": [
       "  0%|          | 0/138 [00:00<?, ?it/s]"
      ]
     },
     "metadata": {},
     "output_type": "display_data"
    },
    {
     "name": "stdout",
     "output_type": "stream",
     "text": [
      "Ground state cut =  94.0\n",
      "Score: 24.00. Random best score: 22.25.\tSuccess. beta =  1.0786516853932584\n",
      "Running for n=35. "
     ]
    },
    {
     "data": {
      "application/vnd.jupyter.widget-view+json": {
       "model_id": "8dd58c7b7e224362b6cb75b760e46f2f",
       "version_major": 2,
       "version_minor": 0
      },
      "text/plain": [
       "  0%|          | 0/287 [00:00<?, ?it/s]"
      ]
     },
     "metadata": {},
     "output_type": "display_data"
    },
    {
     "name": "stdout",
     "output_type": "stream",
     "text": [
      "Ground state cut =  183.0\n"
     ]
    },
    {
     "data": {
      "application/vnd.jupyter.widget-view+json": {
       "model_id": "aa8e2f77153c4598bb4b23e3e534d6c0",
       "version_major": 2,
       "version_minor": 0
      },
      "text/plain": [
       "  0%|          | 0/288 [00:00<?, ?it/s]"
      ]
     },
     "metadata": {},
     "output_type": "display_data"
    },
    {
     "name": "stdout",
     "output_type": "stream",
     "text": [
      "Ground state cut =  180.0\n"
     ]
    },
    {
     "data": {
      "application/vnd.jupyter.widget-view+json": {
       "model_id": "1b5f00f4f1ce4756b8df75067410e9ac",
       "version_major": 2,
       "version_minor": 0
      },
      "text/plain": [
       "  0%|          | 0/313 [00:00<?, ?it/s]"
      ]
     },
     "metadata": {},
     "output_type": "display_data"
    },
    {
     "name": "stdout",
     "output_type": "stream",
     "text": [
      "Ground state cut =  194.0\n"
     ]
    },
    {
     "data": {
      "application/vnd.jupyter.widget-view+json": {
       "model_id": "24739402e979400babfbbf9c1bfc793c",
       "version_major": 2,
       "version_minor": 0
      },
      "text/plain": [
       "  0%|          | 0/293 [00:00<?, ?it/s]"
      ]
     },
     "metadata": {},
     "output_type": "display_data"
    },
    {
     "name": "stdout",
     "output_type": "stream",
     "text": [
      "Ground state cut =  191.0\n"
     ]
    },
    {
     "data": {
      "application/vnd.jupyter.widget-view+json": {
       "model_id": "7bcc81b42a2a42c7bad26d5b7da09c4f",
       "version_major": 2,
       "version_minor": 0
      },
      "text/plain": [
       "  0%|          | 0/290 [00:00<?, ?it/s]"
      ]
     },
     "metadata": {},
     "output_type": "display_data"
    },
    {
     "name": "stdout",
     "output_type": "stream",
     "text": [
      "Ground state cut =  183.0\n",
      "Score: 37.45. Random best score: 36.86.\tSuccess. beta =  1.0160843287185535\n",
      "Running for n=45. "
     ]
    },
    {
     "data": {
      "application/vnd.jupyter.widget-view+json": {
       "model_id": "1f016432dd4e44bb8de4fc5c3af7b8de",
       "version_major": 2,
       "version_minor": 0
      },
      "text/plain": [
       "  0%|          | 0/483 [00:00<?, ?it/s]"
      ]
     },
     "metadata": {},
     "output_type": "display_data"
    },
    {
     "name": "stdout",
     "output_type": "stream",
     "text": [
      "Ground state cut =  298.0\n"
     ]
    },
    {
     "data": {
      "application/vnd.jupyter.widget-view+json": {
       "model_id": "fa875c8138a74fde853fd69d765e367a",
       "version_major": 2,
       "version_minor": 0
      },
      "text/plain": [
       "  0%|          | 0/526 [00:00<?, ?it/s]"
      ]
     },
     "metadata": {},
     "output_type": "display_data"
    },
    {
     "name": "stdout",
     "output_type": "stream",
     "text": [
      "Ground state cut =  326.0\n"
     ]
    },
    {
     "data": {
      "application/vnd.jupyter.widget-view+json": {
       "model_id": "48a4f814a9094b2ebc4934a171b3439b",
       "version_major": 2,
       "version_minor": 0
      },
      "text/plain": [
       "  0%|          | 0/500 [00:00<?, ?it/s]"
      ]
     },
     "metadata": {},
     "output_type": "display_data"
    },
    {
     "name": "stdout",
     "output_type": "stream",
     "text": [
      "Ground state cut =  312.0\n"
     ]
    },
    {
     "data": {
      "application/vnd.jupyter.widget-view+json": {
       "model_id": "3fa7c1b910644a1cb9deeef627154775",
       "version_major": 2,
       "version_minor": 0
      },
      "text/plain": [
       "  0%|          | 0/510 [00:00<?, ?it/s]"
      ]
     },
     "metadata": {},
     "output_type": "display_data"
    },
    {
     "name": "stdout",
     "output_type": "stream",
     "text": [
      "Ground state cut =  312.0\n"
     ]
    },
    {
     "data": {
      "application/vnd.jupyter.widget-view+json": {
       "model_id": "802bdf817efb4e7d96e95157526456aa",
       "version_major": 2,
       "version_minor": 0
      },
      "text/plain": [
       "  0%|          | 0/495 [00:00<?, ?it/s]"
      ]
     },
     "metadata": {},
     "output_type": "display_data"
    },
    {
     "name": "stdout",
     "output_type": "stream",
     "text": [
      "Ground state cut =  304.0\n",
      "Score: 62.90. Random best score: 53.73.\tSuccess. beta =  1.170609036910002\n",
      "Running for n=55. "
     ]
    },
    {
     "data": {
      "application/vnd.jupyter.widget-view+json": {
       "model_id": "1088439749694e9f8fab304614a5e24d",
       "version_major": 2,
       "version_minor": 0
      },
      "text/plain": [
       "  0%|          | 0/721 [00:00<?, ?it/s]"
      ]
     },
     "metadata": {},
     "output_type": "display_data"
    },
    {
     "name": "stdout",
     "output_type": "stream",
     "text": [
      "Ground state cut =  435.0\n"
     ]
    },
    {
     "data": {
      "application/vnd.jupyter.widget-view+json": {
       "model_id": "411a07e17d824b2cb15d998a90a5b74b",
       "version_major": 2,
       "version_minor": 0
      },
      "text/plain": [
       "  0%|          | 0/765 [00:00<?, ?it/s]"
      ]
     },
     "metadata": {},
     "output_type": "display_data"
    },
    {
     "name": "stdout",
     "output_type": "stream",
     "text": [
      "Ground state cut =  456.0\n"
     ]
    },
    {
     "data": {
      "application/vnd.jupyter.widget-view+json": {
       "model_id": "9fdd1a17db314728b799ec58e88d1765",
       "version_major": 2,
       "version_minor": 0
      },
      "text/plain": [
       "  0%|          | 0/732 [00:00<?, ?it/s]"
      ]
     },
     "metadata": {},
     "output_type": "display_data"
    },
    {
     "name": "stdout",
     "output_type": "stream",
     "text": [
      "Ground state cut =  444.0\n"
     ]
    },
    {
     "data": {
      "application/vnd.jupyter.widget-view+json": {
       "model_id": "da5ffa55d0a94019bd1fd67e97eac5a2",
       "version_major": 2,
       "version_minor": 0
      },
      "text/plain": [
       "  0%|          | 0/738 [00:00<?, ?it/s]"
      ]
     },
     "metadata": {},
     "output_type": "display_data"
    },
    {
     "name": "stdout",
     "output_type": "stream",
     "text": [
      "Ground state cut =  446.0\n"
     ]
    },
    {
     "data": {
      "application/vnd.jupyter.widget-view+json": {
       "model_id": "d2b69fb916a24fcb960ca719439afe0f",
       "version_major": 2,
       "version_minor": 0
      },
      "text/plain": [
       "  0%|          | 0/741 [00:00<?, ?it/s]"
      ]
     },
     "metadata": {},
     "output_type": "display_data"
    },
    {
     "name": "stdout",
     "output_type": "stream",
     "text": [
      "Ground state cut =  454.0\n",
      "Score: 75.75. Random best score: 72.60.\tSuccess. beta =  1.0433225655074687\n",
      "Running for n=65. "
     ]
    },
    {
     "data": {
      "application/vnd.jupyter.widget-view+json": {
       "model_id": "37420f90c4924cec8c76267637814e6f",
       "version_major": 2,
       "version_minor": 0
      },
      "text/plain": [
       "  0%|          | 0/1009 [00:00<?, ?it/s]"
      ]
     },
     "metadata": {},
     "output_type": "display_data"
    },
    {
     "name": "stdout",
     "output_type": "stream",
     "text": [
      "Ground state cut =  603.0\n"
     ]
    },
    {
     "data": {
      "application/vnd.jupyter.widget-view+json": {
       "model_id": "f5e4769729c24b8398fa46d3d7ae83f8",
       "version_major": 2,
       "version_minor": 0
      },
      "text/plain": [
       "  0%|          | 0/1041 [00:00<?, ?it/s]"
      ]
     },
     "metadata": {},
     "output_type": "display_data"
    },
    {
     "name": "stdout",
     "output_type": "stream",
     "text": [
      "Ground state cut =  615.0\n"
     ]
    },
    {
     "data": {
      "application/vnd.jupyter.widget-view+json": {
       "model_id": "a0aa94f054da4f9ca34626fc9fa33074",
       "version_major": 2,
       "version_minor": 0
      },
      "text/plain": [
       "  0%|          | 0/1040 [00:00<?, ?it/s]"
      ]
     },
     "metadata": {},
     "output_type": "display_data"
    },
    {
     "name": "stdout",
     "output_type": "stream",
     "text": [
      "Ground state cut =  614.0\n"
     ]
    },
    {
     "data": {
      "application/vnd.jupyter.widget-view+json": {
       "model_id": "a664ee107b0347c58c07b2344bb22341",
       "version_major": 2,
       "version_minor": 0
      },
      "text/plain": [
       "  0%|          | 0/1060 [00:00<?, ?it/s]"
      ]
     },
     "metadata": {},
     "output_type": "display_data"
    },
    {
     "name": "stdout",
     "output_type": "stream",
     "text": [
      "Ground state cut =  626.0\n"
     ]
    },
    {
     "data": {
      "application/vnd.jupyter.widget-view+json": {
       "model_id": "2186ecfea4fe4398aabebab23322c6f7",
       "version_major": 2,
       "version_minor": 0
      },
      "text/plain": [
       "  0%|          | 0/1070 [00:00<?, ?it/s]"
      ]
     },
     "metadata": {},
     "output_type": "display_data"
    },
    {
     "name": "stdout",
     "output_type": "stream",
     "text": [
      "Ground state cut =  636.0\n",
      "Score: 98.80. Random best score: 93.28.\tSuccess. beta =  1.0591730144696447\n",
      "Running for n=75. "
     ]
    },
    {
     "data": {
      "application/vnd.jupyter.widget-view+json": {
       "model_id": "0a2fc8ade9b14c17a5b7d21947dd691f",
       "version_major": 2,
       "version_minor": 0
      },
      "text/plain": [
       "  0%|          | 0/1376 [00:00<?, ?it/s]"
      ]
     },
     "metadata": {},
     "output_type": "display_data"
    },
    {
     "name": "stdout",
     "output_type": "stream",
     "text": [
      "Ground state cut =  814.0\n"
     ]
    },
    {
     "data": {
      "application/vnd.jupyter.widget-view+json": {
       "model_id": "cdd823f2097c4e2d82aba4c8cbd48a6b",
       "version_major": 2,
       "version_minor": 0
      },
      "text/plain": [
       "  0%|          | 0/1409 [00:00<?, ?it/s]"
      ]
     },
     "metadata": {},
     "output_type": "display_data"
    },
    {
     "name": "stdout",
     "output_type": "stream",
     "text": [
      "Ground state cut =  831.0\n"
     ]
    },
    {
     "data": {
      "application/vnd.jupyter.widget-view+json": {
       "model_id": "a769cc68e9ef4e0685f0d9c340bf80fb",
       "version_major": 2,
       "version_minor": 0
      },
      "text/plain": [
       "  0%|          | 0/1374 [00:00<?, ?it/s]"
      ]
     },
     "metadata": {},
     "output_type": "display_data"
    },
    {
     "name": "stdout",
     "output_type": "stream",
     "text": [
      "Ground state cut =  816.0\n"
     ]
    },
    {
     "data": {
      "application/vnd.jupyter.widget-view+json": {
       "model_id": "dcad3f19d6d24710be8c6c1b513ebafb",
       "version_major": 2,
       "version_minor": 0
      },
      "text/plain": [
       "  0%|          | 0/1396 [00:00<?, ?it/s]"
      ]
     },
     "metadata": {},
     "output_type": "display_data"
    },
    {
     "name": "stdout",
     "output_type": "stream",
     "text": [
      "Ground state cut =  823.0\n"
     ]
    },
    {
     "data": {
      "application/vnd.jupyter.widget-view+json": {
       "model_id": "47a348f6dea148739394d83824c03564",
       "version_major": 2,
       "version_minor": 0
      },
      "text/plain": [
       "  0%|          | 0/1411 [00:00<?, ?it/s]"
      ]
     },
     "metadata": {},
     "output_type": "display_data"
    },
    {
     "name": "stdout",
     "output_type": "stream",
     "text": [
      "Ground state cut =  828.0\n",
      "Score: 128.65. Random best score: 115.61.\tSuccess. beta =  1.112750743539256\n",
      "Running for n=85. "
     ]
    },
    {
     "data": {
      "application/vnd.jupyter.widget-view+json": {
       "model_id": "2bcdde42978540c6b1f845c80af09e55",
       "version_major": 2,
       "version_minor": 0
      },
      "text/plain": [
       "  0%|          | 0/1740 [00:00<?, ?it/s]"
      ]
     },
     "metadata": {},
     "output_type": "display_data"
    },
    {
     "name": "stdout",
     "output_type": "stream",
     "text": [
      "Ground state cut =  1017.0\n"
     ]
    },
    {
     "data": {
      "application/vnd.jupyter.widget-view+json": {
       "model_id": "abc9e045032a498eb327b1220f071fa4",
       "version_major": 2,
       "version_minor": 0
      },
      "text/plain": [
       "  0%|          | 0/1791 [00:00<?, ?it/s]"
      ]
     },
     "metadata": {},
     "output_type": "display_data"
    },
    {
     "name": "stdout",
     "output_type": "stream",
     "text": [
      "Ground state cut =  1047.0\n"
     ]
    },
    {
     "data": {
      "application/vnd.jupyter.widget-view+json": {
       "model_id": "115bd00dde1344e495009e194c245262",
       "version_major": 2,
       "version_minor": 0
      },
      "text/plain": [
       "  0%|          | 0/1817 [00:00<?, ?it/s]"
      ]
     },
     "metadata": {},
     "output_type": "display_data"
    },
    {
     "name": "stdout",
     "output_type": "stream",
     "text": [
      "Ground state cut =  1057.0\n"
     ]
    },
    {
     "data": {
      "application/vnd.jupyter.widget-view+json": {
       "model_id": "5d6dc5c50437441bab01d5700f629ca8",
       "version_major": 2,
       "version_minor": 0
      },
      "text/plain": [
       "  0%|          | 0/1867 [00:00<?, ?it/s]"
      ]
     },
     "metadata": {},
     "output_type": "display_data"
    },
    {
     "name": "stdout",
     "output_type": "stream",
     "text": [
      "Ground state cut =  1078.0\n"
     ]
    },
    {
     "data": {
      "application/vnd.jupyter.widget-view+json": {
       "model_id": "d3066f079d644056916caa3817103a86",
       "version_major": 2,
       "version_minor": 0
      },
      "text/plain": [
       "  0%|          | 0/1759 [00:00<?, ?it/s]"
      ]
     },
     "metadata": {},
     "output_type": "display_data"
    },
    {
     "name": "stdout",
     "output_type": "stream",
     "text": [
      "Ground state cut =  1031.0\n",
      "Score: 153.50. Random best score: 139.49.\tSuccess. beta =  1.1004238359274199\n",
      "Running for n=95. "
     ]
    },
    {
     "data": {
      "application/vnd.jupyter.widget-view+json": {
       "model_id": "19fec56374d146e78183ad78a0d7820a",
       "version_major": 2,
       "version_minor": 0
      },
      "text/plain": [
       "  0%|          | 0/2212 [00:00<?, ?it/s]"
      ]
     },
     "metadata": {},
     "output_type": "display_data"
    },
    {
     "name": "stdout",
     "output_type": "stream",
     "text": [
      "Ground state cut =  1278.0\n"
     ]
    },
    {
     "data": {
      "application/vnd.jupyter.widget-view+json": {
       "model_id": "07d231b7515d451ea926d671b7444c08",
       "version_major": 2,
       "version_minor": 0
      },
      "text/plain": [
       "  0%|          | 0/2190 [00:00<?, ?it/s]"
      ]
     },
     "metadata": {},
     "output_type": "display_data"
    },
    {
     "name": "stdout",
     "output_type": "stream",
     "text": [
      "Ground state cut =  1265.0\n"
     ]
    },
    {
     "data": {
      "application/vnd.jupyter.widget-view+json": {
       "model_id": "6e506bc2a68443db99ea9548977c58c7",
       "version_major": 2,
       "version_minor": 0
      },
      "text/plain": [
       "  0%|          | 0/2225 [00:00<?, ?it/s]"
      ]
     },
     "metadata": {},
     "output_type": "display_data"
    },
    {
     "name": "stdout",
     "output_type": "stream",
     "text": [
      "Ground state cut =  1290.0\n"
     ]
    },
    {
     "data": {
      "application/vnd.jupyter.widget-view+json": {
       "model_id": "6f34a0a7240146fcba87a09f915bdcda",
       "version_major": 2,
       "version_minor": 0
      },
      "text/plain": [
       "  0%|          | 0/2237 [00:00<?, ?it/s]"
      ]
     },
     "metadata": {},
     "output_type": "display_data"
    },
    {
     "name": "stdout",
     "output_type": "stream",
     "text": [
      "Ground state cut =  1297.0\n"
     ]
    },
    {
     "data": {
      "application/vnd.jupyter.widget-view+json": {
       "model_id": "54836f09a2f64df0bcf194d2f288ce05",
       "version_major": 2,
       "version_minor": 0
      },
      "text/plain": [
       "  0%|          | 0/2241 [00:00<?, ?it/s]"
      ]
     },
     "metadata": {},
     "output_type": "display_data"
    },
    {
     "name": "stdout",
     "output_type": "stream",
     "text": [
      "Ground state cut =  1292.0\n",
      "Score: 168.15. Random best score: 164.82.\tSuccess. beta =  1.0202144287588335\n",
      "Running for n=105. "
     ]
    },
    {
     "data": {
      "application/vnd.jupyter.widget-view+json": {
       "model_id": "d405f39cbf9740928ed632c531d4116d",
       "version_major": 2,
       "version_minor": 0
      },
      "text/plain": [
       "  0%|          | 0/2684 [00:00<?, ?it/s]"
      ]
     },
     "metadata": {},
     "output_type": "display_data"
    },
    {
     "name": "stdout",
     "output_type": "stream",
     "text": [
      "Ground state cut =  1540.0\n"
     ]
    },
    {
     "data": {
      "application/vnd.jupyter.widget-view+json": {
       "model_id": "5098b8eab44249529ea73fc90b46ba8c",
       "version_major": 2,
       "version_minor": 0
      },
      "text/plain": [
       "  0%|          | 0/2662 [00:00<?, ?it/s]"
      ]
     },
     "metadata": {},
     "output_type": "display_data"
    },
    {
     "name": "stdout",
     "output_type": "stream",
     "text": [
      "Ground state cut =  1528.0\n"
     ]
    },
    {
     "data": {
      "application/vnd.jupyter.widget-view+json": {
       "model_id": "51bc8ce45fa049c88663eefeb13b2e16",
       "version_major": 2,
       "version_minor": 0
      },
      "text/plain": [
       "  0%|          | 0/2737 [00:00<?, ?it/s]"
      ]
     },
     "metadata": {},
     "output_type": "display_data"
    },
    {
     "name": "stdout",
     "output_type": "stream",
     "text": [
      "Ground state cut =  1567.0\n"
     ]
    },
    {
     "data": {
      "application/vnd.jupyter.widget-view+json": {
       "model_id": "feda94b1d5a34e7d8849eea5789d15fd",
       "version_major": 2,
       "version_minor": 0
      },
      "text/plain": [
       "  0%|          | 0/2760 [00:00<?, ?it/s]"
      ]
     },
     "metadata": {},
     "output_type": "display_data"
    },
    {
     "name": "stdout",
     "output_type": "stream",
     "text": [
      "Ground state cut =  1586.0\n"
     ]
    },
    {
     "data": {
      "application/vnd.jupyter.widget-view+json": {
       "model_id": "4c790c9b824c43f39ba7fffb95d73069",
       "version_major": 2,
       "version_minor": 0
      },
      "text/plain": [
       "  0%|          | 0/2718 [00:00<?, ?it/s]"
      ]
     },
     "metadata": {},
     "output_type": "display_data"
    },
    {
     "name": "stdout",
     "output_type": "stream",
     "text": [
      "Ground state cut =  1550.0\n",
      "Score: 189.20. Random best score: 191.52.\tSuccess. beta =  0.9879095441512173\n",
      "Running for n=115. "
     ]
    },
    {
     "data": {
      "application/vnd.jupyter.widget-view+json": {
       "model_id": "0909d2365aaa4b0b890e32b6a656945d",
       "version_major": 2,
       "version_minor": 0
      },
      "text/plain": [
       "  0%|          | 0/3276 [00:00<?, ?it/s]"
      ]
     },
     "metadata": {},
     "output_type": "display_data"
    },
    {
     "name": "stdout",
     "output_type": "stream",
     "text": [
      "Ground state cut =  1868.0\n"
     ]
    },
    {
     "data": {
      "application/vnd.jupyter.widget-view+json": {
       "model_id": "881250ea011e451594cfa1798f9fc5b0",
       "version_major": 2,
       "version_minor": 0
      },
      "text/plain": [
       "  0%|          | 0/3282 [00:00<?, ?it/s]"
      ]
     },
     "metadata": {},
     "output_type": "display_data"
    },
    {
     "name": "stdout",
     "output_type": "stream",
     "text": [
      "Ground state cut =  1880.0\n"
     ]
    },
    {
     "data": {
      "application/vnd.jupyter.widget-view+json": {
       "model_id": "0884ffd744664c9fb58e1b5e4aa2b210",
       "version_major": 2,
       "version_minor": 0
      },
      "text/plain": [
       "  0%|          | 0/3312 [00:00<?, ?it/s]"
      ]
     },
     "metadata": {},
     "output_type": "display_data"
    },
    {
     "name": "stdout",
     "output_type": "stream",
     "text": [
      "Ground state cut =  1878.0\n"
     ]
    },
    {
     "data": {
      "application/vnd.jupyter.widget-view+json": {
       "model_id": "73095a71996847979fa501de77b01586",
       "version_major": 2,
       "version_minor": 0
      },
      "text/plain": [
       "  0%|          | 0/3241 [00:00<?, ?it/s]"
      ]
     },
     "metadata": {},
     "output_type": "display_data"
    },
    {
     "name": "stdout",
     "output_type": "stream",
     "text": [
      "Ground state cut =  1852.0\n"
     ]
    },
    {
     "data": {
      "application/vnd.jupyter.widget-view+json": {
       "model_id": "f1f0fa0f2536449bbe72c9a58d29d544",
       "version_major": 2,
       "version_minor": 0
      },
      "text/plain": [
       "  0%|          | 0/3229 [00:00<?, ?it/s]"
      ]
     },
     "metadata": {},
     "output_type": "display_data"
    },
    {
     "name": "stdout",
     "output_type": "stream",
     "text": [
      "Ground state cut =  1842.0\n",
      "Score: 225.25. Random best score: 219.52.\tSuccess. beta =  1.02611972670313\n",
      "Running for n=125. "
     ]
    },
    {
     "data": {
      "application/vnd.jupyter.widget-view+json": {
       "model_id": "5fc88bf33a4c44018a86919e79f1d835",
       "version_major": 2,
       "version_minor": 0
      },
      "text/plain": [
       "  0%|          | 0/3931 [00:00<?, ?it/s]"
      ]
     },
     "metadata": {},
     "output_type": "display_data"
    },
    {
     "name": "stdout",
     "output_type": "stream",
     "text": [
      "Ground state cut =  2246.0\n"
     ]
    },
    {
     "data": {
      "application/vnd.jupyter.widget-view+json": {
       "model_id": "b4ca77816d3044529af0bae4e71e9b54",
       "version_major": 2,
       "version_minor": 0
      },
      "text/plain": [
       "  0%|          | 0/3797 [00:00<?, ?it/s]"
      ]
     },
     "metadata": {},
     "output_type": "display_data"
    },
    {
     "name": "stdout",
     "output_type": "stream",
     "text": [
      "Ground state cut =  2162.0\n"
     ]
    },
    {
     "data": {
      "application/vnd.jupyter.widget-view+json": {
       "model_id": "8d933a9a437c4d2caee02be78bea3c02",
       "version_major": 2,
       "version_minor": 0
      },
      "text/plain": [
       "  0%|          | 0/3849 [00:00<?, ?it/s]"
      ]
     },
     "metadata": {},
     "output_type": "display_data"
    },
    {
     "name": "stdout",
     "output_type": "stream",
     "text": [
      "Ground state cut =  2184.0\n"
     ]
    },
    {
     "data": {
      "application/vnd.jupyter.widget-view+json": {
       "model_id": "d4c2be92ac2c4c22b8aec1d303b7768d",
       "version_major": 2,
       "version_minor": 0
      },
      "text/plain": [
       "  0%|          | 0/3926 [00:00<?, ?it/s]"
      ]
     },
     "metadata": {},
     "output_type": "display_data"
    },
    {
     "name": "stdout",
     "output_type": "stream",
     "text": [
      "Ground state cut =  2217.0\n"
     ]
    },
    {
     "data": {
      "application/vnd.jupyter.widget-view+json": {
       "model_id": "5b2bb237ce8b4985812b868d2525b48c",
       "version_major": 2,
       "version_minor": 0
      },
      "text/plain": [
       "  0%|          | 0/3824 [00:00<?, ?it/s]"
      ]
     },
     "metadata": {},
     "output_type": "display_data"
    },
    {
     "name": "stdout",
     "output_type": "stream",
     "text": [
      "Ground state cut =  2174.0\n",
      "Score: 259.10. Random best score: 248.76.\tSuccess. beta =  1.041555439047542\n",
      "Running for n=135. "
     ]
    },
    {
     "data": {
      "application/vnd.jupyter.widget-view+json": {
       "model_id": "465c4226ea73452cb12c3db90125d469",
       "version_major": 2,
       "version_minor": 0
      },
      "text/plain": [
       "  0%|          | 0/4591 [00:00<?, ?it/s]"
      ]
     },
     "metadata": {},
     "output_type": "display_data"
    },
    {
     "name": "stdout",
     "output_type": "stream",
     "text": [
      "Ground state cut =  2591.0\n"
     ]
    },
    {
     "data": {
      "application/vnd.jupyter.widget-view+json": {
       "model_id": "782f6323a07a419ea32deca2dcea2e87",
       "version_major": 2,
       "version_minor": 0
      },
      "text/plain": [
       "  0%|          | 0/4497 [00:00<?, ?it/s]"
      ]
     },
     "metadata": {},
     "output_type": "display_data"
    },
    {
     "name": "stdout",
     "output_type": "stream",
     "text": [
      "Ground state cut =  2544.0\n"
     ]
    },
    {
     "data": {
      "application/vnd.jupyter.widget-view+json": {
       "model_id": "20488c32ee2e4d7ea8c40dea1e4000c5",
       "version_major": 2,
       "version_minor": 0
      },
      "text/plain": [
       "  0%|          | 0/4541 [00:00<?, ?it/s]"
      ]
     },
     "metadata": {},
     "output_type": "display_data"
    },
    {
     "name": "stdout",
     "output_type": "stream",
     "text": [
      "Ground state cut =  2560.0\n"
     ]
    },
    {
     "data": {
      "application/vnd.jupyter.widget-view+json": {
       "model_id": "bb8492f5dab242fd8b280a47ab802a48",
       "version_major": 2,
       "version_minor": 0
      },
      "text/plain": [
       "  0%|          | 0/4476 [00:00<?, ?it/s]"
      ]
     },
     "metadata": {},
     "output_type": "display_data"
    },
    {
     "name": "stdout",
     "output_type": "stream",
     "text": [
      "Ground state cut =  2530.0\n"
     ]
    },
    {
     "data": {
      "application/vnd.jupyter.widget-view+json": {
       "model_id": "313ce04af6df448893292d8a0b780e27",
       "version_major": 2,
       "version_minor": 0
      },
      "text/plain": [
       "  0%|          | 0/4600 [00:00<?, ?it/s]"
      ]
     },
     "metadata": {},
     "output_type": "display_data"
    },
    {
     "name": "stdout",
     "output_type": "stream",
     "text": [
      "Ground state cut =  2589.0\n",
      "Score: 301.55. Random best score: 279.20.\tSuccess. beta =  1.0800371092142667\n",
      "Running for n=145. "
     ]
    },
    {
     "data": {
      "application/vnd.jupyter.widget-view+json": {
       "model_id": "f70f9fb349c542089387e1ea6a01dfa4",
       "version_major": 2,
       "version_minor": 0
      },
      "text/plain": [
       "  0%|          | 0/5245 [00:00<?, ?it/s]"
      ]
     },
     "metadata": {},
     "output_type": "display_data"
    },
    {
     "name": "stdout",
     "output_type": "stream",
     "text": [
      "Ground state cut =  2934.0\n"
     ]
    },
    {
     "data": {
      "application/vnd.jupyter.widget-view+json": {
       "model_id": "46dd0ca655ed4d1b97a359b92d7735da",
       "version_major": 2,
       "version_minor": 0
      },
      "text/plain": [
       "  0%|          | 0/5183 [00:00<?, ?it/s]"
      ]
     },
     "metadata": {},
     "output_type": "display_data"
    },
    {
     "name": "stdout",
     "output_type": "stream",
     "text": [
      "Ground state cut =  2902.0\n"
     ]
    },
    {
     "data": {
      "application/vnd.jupyter.widget-view+json": {
       "model_id": "14e0933ca8bd40489e4e21d6ae048816",
       "version_major": 2,
       "version_minor": 0
      },
      "text/plain": [
       "  0%|          | 0/5312 [00:00<?, ?it/s]"
      ]
     },
     "metadata": {},
     "output_type": "display_data"
    },
    {
     "name": "stdout",
     "output_type": "stream",
     "text": [
      "Ground state cut =  2993.0\n"
     ]
    },
    {
     "data": {
      "application/vnd.jupyter.widget-view+json": {
       "model_id": "5a619b4e55dc4ce8863737af8b310337",
       "version_major": 2,
       "version_minor": 0
      },
      "text/plain": [
       "  0%|          | 0/5218 [00:00<?, ?it/s]"
      ]
     },
     "metadata": {},
     "output_type": "display_data"
    },
    {
     "name": "stdout",
     "output_type": "stream",
     "text": [
      "Ground state cut =  2925.0\n"
     ]
    },
    {
     "data": {
      "application/vnd.jupyter.widget-view+json": {
       "model_id": "7079478171a540138125afa88b05898b",
       "version_major": 2,
       "version_minor": 0
      },
      "text/plain": [
       "  0%|          | 0/5128 [00:00<?, ?it/s]"
      ]
     },
     "metadata": {},
     "output_type": "display_data"
    },
    {
     "name": "stdout",
     "output_type": "stream",
     "text": [
      "Ground state cut =  2884.0\n",
      "Score: 317.60. Random best score: 310.79.\tSuccess. beta =  1.0219002092812013\n",
      "Running for n=155. "
     ]
    },
    {
     "data": {
      "application/vnd.jupyter.widget-view+json": {
       "model_id": "4e375b105a1144aeb324ad2f71911a35",
       "version_major": 2,
       "version_minor": 0
      },
      "text/plain": [
       "  0%|          | 0/5925 [00:00<?, ?it/s]"
      ]
     },
     "metadata": {},
     "output_type": "display_data"
    },
    {
     "name": "stdout",
     "output_type": "stream",
     "text": [
      "Ground state cut =  3341.0\n"
     ]
    },
    {
     "data": {
      "application/vnd.jupyter.widget-view+json": {
       "model_id": "f0b792f8ec234ec4a7c694b749e7c7be",
       "version_major": 2,
       "version_minor": 0
      },
      "text/plain": [
       "  0%|          | 0/5994 [00:00<?, ?it/s]"
      ]
     },
     "metadata": {},
     "output_type": "display_data"
    },
    {
     "name": "stdout",
     "output_type": "stream",
     "text": [
      "Ground state cut =  3333.0\n"
     ]
    },
    {
     "data": {
      "application/vnd.jupyter.widget-view+json": {
       "model_id": "7e89535965ed4b428314f452b3cefb28",
       "version_major": 2,
       "version_minor": 0
      },
      "text/plain": [
       "  0%|          | 0/5957 [00:00<?, ?it/s]"
      ]
     },
     "metadata": {},
     "output_type": "display_data"
    },
    {
     "name": "stdout",
     "output_type": "stream",
     "text": [
      "Ground state cut =  3329.0\n"
     ]
    },
    {
     "data": {
      "application/vnd.jupyter.widget-view+json": {
       "model_id": "c1633f240ac243d9b1eaa668b34b4d42",
       "version_major": 2,
       "version_minor": 0
      },
      "text/plain": [
       "  0%|          | 0/5995 [00:00<?, ?it/s]"
      ]
     },
     "metadata": {},
     "output_type": "display_data"
    },
    {
     "name": "stdout",
     "output_type": "stream",
     "text": [
      "Ground state cut =  3365.0\n"
     ]
    },
    {
     "data": {
      "application/vnd.jupyter.widget-view+json": {
       "model_id": "a7dd01818a3043ae8e3f521819163bc4",
       "version_major": 2,
       "version_minor": 0
      },
      "text/plain": [
       "  0%|          | 0/5851 [00:00<?, ?it/s]"
      ]
     },
     "metadata": {},
     "output_type": "display_data"
    },
    {
     "name": "stdout",
     "output_type": "stream",
     "text": [
      "Ground state cut =  3261.0\n",
      "Score: 342.05. Random best score: 343.49.\tSuccess. beta =  0.9957998240344322\n",
      "Running for n=165. "
     ]
    },
    {
     "data": {
      "application/vnd.jupyter.widget-view+json": {
       "model_id": "c84524356ebb4e7592130513c1dd0bd7",
       "version_major": 2,
       "version_minor": 0
      },
      "text/plain": [
       "  0%|          | 0/6693 [00:00<?, ?it/s]"
      ]
     },
     "metadata": {},
     "output_type": "display_data"
    },
    {
     "name": "stdout",
     "output_type": "stream",
     "text": [
      "Ground state cut =  3734.0\n"
     ]
    },
    {
     "data": {
      "application/vnd.jupyter.widget-view+json": {
       "model_id": "11c732deeacc49c7b55d1d8b55c774d0",
       "version_major": 2,
       "version_minor": 0
      },
      "text/plain": [
       "  0%|          | 0/6710 [00:00<?, ?it/s]"
      ]
     },
     "metadata": {},
     "output_type": "display_data"
    },
    {
     "name": "stdout",
     "output_type": "stream",
     "text": [
      "Ground state cut =  3736.0\n"
     ]
    },
    {
     "data": {
      "application/vnd.jupyter.widget-view+json": {
       "model_id": "64bebdaed0b545ac97eccee80d9343af",
       "version_major": 2,
       "version_minor": 0
      },
      "text/plain": [
       "  0%|          | 0/6786 [00:00<?, ?it/s]"
      ]
     },
     "metadata": {},
     "output_type": "display_data"
    },
    {
     "name": "stdout",
     "output_type": "stream",
     "text": [
      "Ground state cut =  3780.0\n"
     ]
    },
    {
     "data": {
      "application/vnd.jupyter.widget-view+json": {
       "model_id": "c18b60887f394f3795e011e961aed84b",
       "version_major": 2,
       "version_minor": 0
      },
      "text/plain": [
       "  0%|          | 0/6747 [00:00<?, ?it/s]"
      ]
     },
     "metadata": {},
     "output_type": "display_data"
    },
    {
     "name": "stdout",
     "output_type": "stream",
     "text": [
      "Ground state cut =  3752.0\n"
     ]
    },
    {
     "data": {
      "application/vnd.jupyter.widget-view+json": {
       "model_id": "343086b69ada49da8b0f37443f60254e",
       "version_major": 2,
       "version_minor": 0
      },
      "text/plain": [
       "  0%|          | 0/6719 [00:00<?, ?it/s]"
      ]
     },
     "metadata": {},
     "output_type": "display_data"
    },
    {
     "name": "stdout",
     "output_type": "stream",
     "text": [
      "Ground state cut =  3754.0\n",
      "Score: 368.70. Random best score: 377.26.\tSuccess. beta =  0.977298470249756\n",
      "Running for n=175. "
     ]
    },
    {
     "data": {
      "application/vnd.jupyter.widget-view+json": {
       "model_id": "979161f3aa2547b091c8ee478d2aaafb",
       "version_major": 2,
       "version_minor": 0
      },
      "text/plain": [
       "  0%|          | 0/7529 [00:00<?, ?it/s]"
      ]
     },
     "metadata": {},
     "output_type": "display_data"
    },
    {
     "name": "stdout",
     "output_type": "stream",
     "text": [
      "Ground state cut =  4202.0\n"
     ]
    },
    {
     "data": {
      "application/vnd.jupyter.widget-view+json": {
       "model_id": "7ea01f36ccb3417fa40dc7d71d070af2",
       "version_major": 2,
       "version_minor": 0
      },
      "text/plain": [
       "  0%|          | 0/7583 [00:00<?, ?it/s]"
      ]
     },
     "metadata": {},
     "output_type": "display_data"
    },
    {
     "name": "stdout",
     "output_type": "stream",
     "text": [
      "Ground state cut =  4216.0\n"
     ]
    },
    {
     "data": {
      "application/vnd.jupyter.widget-view+json": {
       "model_id": "39b9802756554b399b887b926666548b",
       "version_major": 2,
       "version_minor": 0
      },
      "text/plain": [
       "  0%|          | 0/7529 [00:00<?, ?it/s]"
      ]
     },
     "metadata": {},
     "output_type": "display_data"
    },
    {
     "name": "stdout",
     "output_type": "stream",
     "text": [
      "Ground state cut =  4173.0\n"
     ]
    },
    {
     "data": {
      "application/vnd.jupyter.widget-view+json": {
       "model_id": "ed0853cc8f134aa0a5d4b244204cf634",
       "version_major": 2,
       "version_minor": 0
      },
      "text/plain": [
       "  0%|          | 0/7612 [00:00<?, ?it/s]"
      ]
     },
     "metadata": {},
     "output_type": "display_data"
    },
    {
     "name": "stdout",
     "output_type": "stream",
     "text": [
      "Ground state cut =  4217.0\n"
     ]
    },
    {
     "data": {
      "application/vnd.jupyter.widget-view+json": {
       "model_id": "6ef39b1b16ce4a8798ec1b0286b9e216",
       "version_major": 2,
       "version_minor": 0
      },
      "text/plain": [
       "  0%|          | 0/7625 [00:00<?, ?it/s]"
      ]
     },
     "metadata": {},
     "output_type": "display_data"
    },
    {
     "name": "stdout",
     "output_type": "stream",
     "text": [
      "Ground state cut =  4231.0\n",
      "Score: 401.55. Random best score: 412.08.\tSuccess. beta =  0.9744567199798091\n",
      "    (True, 175, 0.7744567199798091)\n",
      "Failure. QScore(0.2) > 175\n",
      "Maybe try to increase the max instance size !\n"
     ]
    }
   ],
   "source": [
    "QScore(None, size_limit = 180, depth = 1, output = 'out.csv', rawdata = 'out.raw', seed = 1234).run()"
   ]
  },
  {
   "cell_type": "markdown",
   "id": "100eba41-7700-4de2-b457-88aa2878fefc",
   "metadata": {},
   "source": [
    "# Plotting results"
   ]
  },
  {
   "cell_type": "code",
   "execution_count": 40,
   "id": "bd8dc031-ce8a-4576-af3f-86fea437471f",
   "metadata": {},
   "outputs": [],
   "source": [
    "import pandas as pd\n",
    "import matplotlib.pyplot as plt\n",
    "df = pd.read_csv('out.csv', names = [\"n\",\"score\",\"random_score\"], header = None)\n",
    "df['beta'] = df['score'] / df['random_score']"
   ]
  },
  {
   "cell_type": "code",
   "execution_count": 64,
   "id": "5dfe8a1e-26b0-43f7-9962-611fe829dcea",
   "metadata": {},
   "outputs": [
    {
     "data": {
      "image/png": "[encoded data removed]",
      "text/plain": [
       "<Figure size 800x600 with 1 Axes>"
      ]
     },
     "metadata": {},
     "output_type": "display_data"
    }
   ],
   "source": [
    "plt.figure(figsize=(8,6))\n",
    "plt.bar(df.n,0.05, width=1, bottom=df.beta-0.025, color='#000000')\n",
    "plt.plot(df['n'], df['beta'], linestyle='None', marker='o')\n",
    "plt.title('Dynex Neuromorphic Platform')\n",
    "plt.xlabel('Problem size N')\n",
    "plt.ylabel('Beta')\n",
    "plt.axhline(y = 0.2, color = 'r', linestyle = '--') \n",
    "plt.tight_layout()\n",
    "plt.show()"
   ]
  },
  {
   "cell_type": "markdown",
   "id": "8617b88e-7720-4282-8aa5-c0e08305dcb8",
   "metadata": {},
   "source": [
    "## References"
   ]
  },
  {
   "cell_type": "markdown",
   "id": "f13fa6ee-5555-423d-b684-f5b340cb2806",
   "metadata": {},
   "source": [
    "[1] Martiel S, Ayral T, Allouche C. Benchmarking quantum coprocessors in an application-centric, hardware-agnostic, and scalable way. IEEE Transactions on Quantum Engineering. 2021 Jun 17;2:1-1."
   ]
  },
  {
   "cell_type": "markdown",
   "id": "6c7286fb-2627-4cd5-867f-ce0d93658e40",
   "metadata": {},
   "source": [
    "[2] Atos Package for computing the Atos Q-score: \n",
    "https://github.com/myQLM/qscore/blob/master/qat/qscore/https://github.com/myQLM/qscore/blob/master/qat/qscore/"
   ]
  }
 ],
 "metadata": {
  "kernelspec": {
   "display_name": "Python 3 (ipykernel)",
   "language": "python",
   "name": "python3"
  },
  "language_info": {
   "codemirror_mode": {
    "name": "ipython",
    "version": 3
   },
   "file_extension": ".py",
   "mimetype": "text/x-python",
   "name": "python",
   "nbconvert_exporter": "python",
   "pygments_lexer": "ipython3",
   "version": "3.10.12"
  }
 },
 "nbformat": 4,
 "nbformat_minor": 5
}
